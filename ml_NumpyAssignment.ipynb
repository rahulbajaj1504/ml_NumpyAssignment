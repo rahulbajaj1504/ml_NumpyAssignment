{
  "nbformat": 4,
  "nbformat_minor": 0,
  "metadata": {
    "colab": {
      "name": "ml_NumpyAssignment.ipynb",
      "provenance": []
    },
    "kernelspec": {
      "name": "python3",
      "display_name": "Python 3"
    }
  },
  "cells": [
    {
      "cell_type": "markdown",
      "metadata": {
        "id": "bA9oI4KxoGlH"
      },
      "source": [
        "Write a function so that the columns of the output matrix are powers of the input vector. \r\n",
        "The order of the powers is determined by the increasing boolean argument. Specifically, when  increasing is False, the i-th output column is the input vector raised element-wise to the power  of N - i - 1.\r\n"
      ]
    },
    {
      "cell_type": "code",
      "metadata": {
        "colab": {
          "base_uri": "https://localhost:8080/"
        },
        "id": "czwX9EdzoD3L",
        "outputId": "da421c72-7d11-474e-abb6-aac3661595b5"
      },
      "source": [
        "import numpy as np\r\n",
        "# single line input array\r\n",
        "x = np.array([1, 2, 3, 5])\r\n",
        "# input vector\r\n",
        "N = 3\r\n",
        "np.vander(x, N, increasing=False) #with increasing boolean as False"
      ],
      "execution_count": 2,
      "outputs": [
        {
          "output_type": "execute_result",
          "data": {
            "text/plain": [
              "array([[ 1,  1,  1],\n",
              "       [ 4,  2,  1],\n",
              "       [ 9,  3,  1],\n",
              "       [25,  5,  1]])"
            ]
          },
          "metadata": {
            "tags": []
          },
          "execution_count": 2
        }
      ]
    },
    {
      "cell_type": "code",
      "metadata": {
        "colab": {
          "base_uri": "https://localhost:8080/"
        },
        "id": "gQjOo8a4oS9V",
        "outputId": "6238c0b7-afef-4aac-a779-eb3e9489159c"
      },
      "source": [
        "np.array([1, 2, 3, 5])"
      ],
      "execution_count": 3,
      "outputs": [
        {
          "output_type": "execute_result",
          "data": {
            "text/plain": [
              "array([1, 2, 3, 5])"
            ]
          },
          "metadata": {
            "tags": []
          },
          "execution_count": 3
        }
      ]
    },
    {
      "cell_type": "code",
      "metadata": {
        "colab": {
          "base_uri": "https://localhost:8080/"
        },
        "id": "3BqKcdc6oXkv",
        "outputId": "71e2e479-6437-4167-cc53-ec334c2ccd6f"
      },
      "source": [
        "np.vander(x,2, increasing=True) #with increasing boolean as True"
      ],
      "execution_count": 4,
      "outputs": [
        {
          "output_type": "execute_result",
          "data": {
            "text/plain": [
              "array([[1, 1],\n",
              "       [1, 2],\n",
              "       [1, 3],\n",
              "       [1, 5]])"
            ]
          },
          "metadata": {
            "tags": []
          },
          "execution_count": 4
        }
      ]
    },
    {
      "cell_type": "code",
      "metadata": {
        "colab": {
          "base_uri": "https://localhost:8080/"
        },
        "id": "m2LdycxgofrY",
        "outputId": "9b38397e-ca14-4874-87a8-0e61e7c4a467"
      },
      "source": [
        "import inspect\r\n",
        "lines = inspect.getsource(np.vander)\r\n",
        "print(lines)"
      ],
      "execution_count": 5,
      "outputs": [
        {
          "output_type": "stream",
          "text": [
            "@array_function_dispatch(_vander_dispatcher)\n",
            "def vander(x, N=None, increasing=False):\n",
            "    \"\"\"\n",
            "    Generate a Vandermonde matrix.\n",
            "\n",
            "    The columns of the output matrix are powers of the input vector. The\n",
            "    order of the powers is determined by the `increasing` boolean argument.\n",
            "    Specifically, when `increasing` is False, the `i`-th output column is\n",
            "    the input vector raised element-wise to the power of ``N - i - 1``. Such\n",
            "    a matrix with a geometric progression in each row is named for Alexandre-\n",
            "    Theophile Vandermonde.\n",
            "\n",
            "    Parameters\n",
            "    ----------\n",
            "    x : array_like\n",
            "        1-D input array.\n",
            "    N : int, optional\n",
            "        Number of columns in the output.  If `N` is not specified, a square\n",
            "        array is returned (``N = len(x)``).\n",
            "    increasing : bool, optional\n",
            "        Order of the powers of the columns.  If True, the powers increase\n",
            "        from left to right, if False (the default) they are reversed.\n",
            "\n",
            "        .. versionadded:: 1.9.0\n",
            "\n",
            "    Returns\n",
            "    -------\n",
            "    out : ndarray\n",
            "        Vandermonde matrix.  If `increasing` is False, the first column is\n",
            "        ``x^(N-1)``, the second ``x^(N-2)`` and so forth. If `increasing` is\n",
            "        True, the columns are ``x^0, x^1, ..., x^(N-1)``.\n",
            "\n",
            "    See Also\n",
            "    --------\n",
            "    polynomial.polynomial.polyvander\n",
            "\n",
            "    Examples\n",
            "    --------\n",
            "    >>> x = np.array([1, 2, 3, 5])\n",
            "    >>> N = 3\n",
            "    >>> np.vander(x, N)\n",
            "    array([[ 1,  1,  1],\n",
            "           [ 4,  2,  1],\n",
            "           [ 9,  3,  1],\n",
            "           [25,  5,  1]])\n",
            "\n",
            "    >>> np.column_stack([x**(N-1-i) for i in range(N)])\n",
            "    array([[ 1,  1,  1],\n",
            "           [ 4,  2,  1],\n",
            "           [ 9,  3,  1],\n",
            "           [25,  5,  1]])\n",
            "\n",
            "    >>> x = np.array([1, 2, 3, 5])\n",
            "    >>> np.vander(x)\n",
            "    array([[  1,   1,   1,   1],\n",
            "           [  8,   4,   2,   1],\n",
            "           [ 27,   9,   3,   1],\n",
            "           [125,  25,   5,   1]])\n",
            "    >>> np.vander(x, increasing=True)\n",
            "    array([[  1,   1,   1,   1],\n",
            "           [  1,   2,   4,   8],\n",
            "           [  1,   3,   9,  27],\n",
            "           [  1,   5,  25, 125]])\n",
            "\n",
            "    The determinant of a square Vandermonde matrix is the product\n",
            "    of the differences between the values of the input vector:\n",
            "\n",
            "    >>> np.linalg.det(np.vander(x))\n",
            "    48.000000000000043 # may vary\n",
            "    >>> (5-3)*(5-2)*(5-1)*(3-2)*(3-1)*(2-1)\n",
            "    48\n",
            "\n",
            "    \"\"\"\n",
            "    x = asarray(x)\n",
            "    if x.ndim != 1:\n",
            "        raise ValueError(\"x must be a one-dimensional array or sequence.\")\n",
            "    if N is None:\n",
            "        N = len(x)\n",
            "\n",
            "    v = empty((len(x), N), dtype=promote_types(x.dtype, int))\n",
            "    tmp = v[:, ::-1] if not increasing else v\n",
            "\n",
            "    if N > 0:\n",
            "        tmp[:, 0] = 1\n",
            "    if N > 1:\n",
            "        tmp[:, 1:] = x[:, None]\n",
            "        multiply.accumulate(tmp[:, 1:], out=tmp[:, 1:], axis=1)\n",
            "\n",
            "    return v\n",
            "\n"
          ],
          "name": "stdout"
        }
      ]
    },
    {
      "cell_type": "code",
      "metadata": {
        "id": "F-hR0mSmolXN"
      },
      "source": [
        ""
      ],
      "execution_count": null,
      "outputs": []
    },
    {
      "cell_type": "markdown",
      "metadata": {
        "id": "rxLljvhcoplQ"
      },
      "source": [
        "Write a function to find moving average in an array over a window:  Test it over [3, 5, 7, 2, 8, 10, 11, 65, 72, 81, 99, 100, 150] and window of 3."
      ]
    },
    {
      "cell_type": "code",
      "metadata": {
        "id": "rwRl3LUyoxYY"
      },
      "source": [
        "def mov_avg_val(mylist, N):\r\n",
        "    cumsum, moving_aves = [0], []\r\n",
        "    for i, x in enumerate(mylist, 1):\r\n",
        "        cumsum.append(cumsum[i-1] + x) # summing up all the values one by one and appending the list\r\n",
        "        if i>=N:\r\n",
        "            moving_ave = round(((cumsum[i] - cumsum[i-N])/N),2) #computing the moving average using temp array sum array cumsum\r\n",
        "            #can do stuff with moving_ave here\r\n",
        "            moving_aves.append(moving_ave) # listing the moving average as an single array\r\n",
        "    print(\"Moving average values list: \", moving_aves)\r\n",
        "    print(\"Length of the list l-N+1: \", len(moving_aves))"
      ],
      "execution_count": 6,
      "outputs": []
    },
    {
      "cell_type": "code",
      "metadata": {
        "colab": {
          "base_uri": "https://localhost:8080/"
        },
        "id": "vOkwgNZKo87W",
        "outputId": "20057e4a-7da5-4fe6-99ef-2641833959d7"
      },
      "source": [
        "mylist = [10, 20, 30, 40, 50, 60, 70, 80, 90, 100]\r\n",
        "N = 4\r\n",
        "\r\n",
        "mov_avg_val(mylist,N)"
      ],
      "execution_count": 8,
      "outputs": [
        {
          "output_type": "stream",
          "text": [
            "Moving average values list:  [25.0, 35.0, 45.0, 55.0, 65.0, 75.0, 85.0]\n",
            "Length of the list l-N+1:  7\n"
          ],
          "name": "stdout"
        }
      ]
    },
    {
      "cell_type": "code",
      "metadata": {
        "colab": {
          "base_uri": "https://localhost:8080/"
        },
        "id": "ZCBccLU6pBC-",
        "outputId": "04fdba0c-796a-4be8-975c-c180ee178a1b"
      },
      "source": [
        "mylist = [3, 5, 7, 2, 8, 10, 11, 65, 72, 81, 99, 100, 150]\r\n",
        "N = 3\r\n",
        "\r\n",
        "mov_avg_val(mylist,N)"
      ],
      "execution_count": 9,
      "outputs": [
        {
          "output_type": "stream",
          "text": [
            "Moving average values list:  [5.0, 4.67, 5.67, 6.67, 9.67, 28.67, 49.33, 72.67, 84.0, 93.33, 116.33]\n",
            "Length of the list l-N+1:  11\n"
          ],
          "name": "stdout"
        }
      ]
    },
    {
      "cell_type": "code",
      "metadata": {
        "id": "ePwtU7KspGMI"
      },
      "source": [
        ""
      ],
      "execution_count": null,
      "outputs": []
    }
  ]
}